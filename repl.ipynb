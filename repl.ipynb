{
 "cells": [
  {
   "cell_type": "code",
   "execution_count": 2,
   "id": "4c5beb78",
   "metadata": {
    "ExecuteTime": {
     "end_time": "2023-02-19T03:55:08.172336Z",
     "start_time": "2023-02-19T03:55:08.154865Z"
    }
   },
   "outputs": [
    {
     "ename": "ModuleNotFoundError",
     "evalue": "No module named 'typeguard.importhook'",
     "output_type": "error",
     "traceback": [
      "\u001b[0;31m---------------------------------------------------------------------------\u001b[0m",
      "\u001b[0;31mModuleNotFoundError\u001b[0m                       Traceback (most recent call last)",
      "Cell \u001b[0;32mIn[2], line 1\u001b[0m\n\u001b[0;32m----> 1\u001b[0m \u001b[39mfrom\u001b[39;00m \u001b[39mtypeguard\u001b[39;00m\u001b[39m.\u001b[39;00m\u001b[39mimporthook\u001b[39;00m \u001b[39mimport\u001b[39;00m install_import_hook\n\u001b[1;32m      2\u001b[0m install_import_hook(\u001b[39m'\u001b[39m\u001b[39mrepl\u001b[39m\u001b[39m'\u001b[39m)\n",
      "\u001b[0;31mModuleNotFoundError\u001b[0m: No module named 'typeguard.importhook'"
     ]
    }
   ],
   "source": [
    "from typeguard.importhook import install_import_hook\n",
    "install_import_hook('repl')"
   ]
  },
  {
   "cell_type": "code",
   "execution_count": 1,
   "id": "20b66e19",
   "metadata": {
    "ExecuteTime": {
     "end_time": "2023-02-19T04:54:29.656663Z",
     "start_time": "2023-02-19T04:54:29.649704Z"
    }
   },
   "outputs": [],
   "source": [
    "%autoreload 2"
   ]
  },
  {
   "cell_type": "code",
   "execution_count": 3,
   "id": "54a9cc16",
   "metadata": {
    "ExecuteTime": {
     "end_time": "2023-02-19T04:54:29.946567Z",
     "start_time": "2023-02-19T04:54:29.668328Z"
    }
   },
   "outputs": [],
   "source": [
    "from policies import MinimaxPolicy, RandPolicy, AlphaBeta, MCTS\n",
    "import game\n",
    "import numpy as np\n",
    "import matplotlib.pyplot as plt\n",
    "import pdb"
   ]
  },
  {
   "cell_type": "code",
   "execution_count": 4,
   "id": "a6e57092",
   "metadata": {
    "ExecuteTime": {
     "end_time": "2023-02-19T04:54:29.955270Z",
     "start_time": "2023-02-19T04:54:29.948028Z"
    }
   },
   "outputs": [],
   "source": [
    "def mcts_game():\n",
    "    players = [MCTS(0, limit=3), RandPolicy(1)]\n",
    "    sim = game.GameSimulator(players, n_steps=1, log=True)\n",
    "    sim.go()\n",
    "    return sim"
   ]
  },
  {
   "cell_type": "code",
   "execution_count": 16,
   "id": "3f44b56f",
   "metadata": {
    "ExecuteTime": {
     "end_time": "2023-02-17T16:33:11.043996Z",
     "start_time": "2023-02-17T16:33:11.028392Z"
    }
   },
   "outputs": [],
   "source": [
    "def rand_game():\n",
    "    players = [RandPolicy(0), RandPolicy(1)]\n",
    "    sim = game.GameSimulator(players, n_steps=800)\n",
    "    sim.run()\n",
    "    return sim"
   ]
  },
  {
   "cell_type": "code",
   "execution_count": 17,
   "id": "4709765c",
   "metadata": {
    "ExecuteTime": {
     "end_time": "2023-02-17T16:33:21.941384Z",
     "start_time": "2023-02-17T16:33:17.479506Z"
    }
   },
   "outputs": [],
   "source": [
    "rand_games = [rand_game() for _ in range(50)]"
   ]
  },
  {
   "cell_type": "code",
   "execution_count": 22,
   "id": "2a710938",
   "metadata": {
    "ExecuteTime": {
     "end_time": "2023-02-17T16:35:36.963278Z",
     "start_time": "2023-02-17T16:35:36.796116Z"
    }
   },
   "outputs": [
    {
     "data": {
      "image/png": "[encoded data removed]",
      "text/plain": [
       "<Figure size 640x480 with 1 Axes>"
      ]
     },
     "metadata": {},
     "output_type": "display_data"
    }
   ],
   "source": [
    "plt.hist([g.current_round for g in rand_games]);"
   ]
  },
  {
   "cell_type": "code",
   "execution_count": 27,
   "id": "aa3ae004",
   "metadata": {
    "ExecuteTime": {
     "end_time": "2023-02-17T16:37:11.306085Z",
     "start_time": "2023-02-17T16:37:11.292950Z"
    }
   },
   "outputs": [
    {
     "data": {
      "text/plain": [
       "0.62"
      ]
     },
     "execution_count": 27,
     "metadata": {},
     "output_type": "execute_result"
    }
   ],
   "source": [
    "np.mean([g.winner() for g in rand_games])"
   ]
  },
  {
   "cell_type": "code",
   "execution_count": 30,
   "id": "52f1454c",
   "metadata": {
    "ExecuteTime": {
     "end_time": "2023-02-17T16:37:55.694211Z",
     "start_time": "2023-02-17T16:37:55.682722Z"
    }
   },
   "outputs": [],
   "source": [
    "def minimax_rand():\n",
    "    players = [MinimaxPolicy(0), RandPolicy(1)]\n",
    "    sim = game.GameSimulator(players, n_steps=700)\n",
    "    sim.run()\n",
    "    return sim"
   ]
  },
  {
   "cell_type": "code",
   "execution_count": 31,
   "id": "0f262beb",
   "metadata": {
    "ExecuteTime": {
     "end_time": "2023-02-17T16:38:22.867440Z",
     "start_time": "2023-02-17T16:37:56.565090Z"
    }
   },
   "outputs": [],
   "source": [
    "mm_games = [minimax_rand() for _ in range(20)]"
   ]
  },
  {
   "cell_type": "code",
   "execution_count": 32,
   "id": "360dfb5d",
   "metadata": {
    "ExecuteTime": {
     "end_time": "2023-02-17T16:38:59.000956Z",
     "start_time": "2023-02-17T16:38:58.986736Z"
    }
   },
   "outputs": [
    {
     "data": {
      "text/plain": [
       "0.1"
      ]
     },
     "execution_count": 32,
     "metadata": {},
     "output_type": "execute_result"
    }
   ],
   "source": [
    "np.mean([g.winner() for g in mm_games])"
   ]
  },
  {
   "cell_type": "markdown",
   "id": "c67f6e87",
   "metadata": {},
   "source": [
    "So Minimax, even with depth 3 and no hueristic, is already way better than random!"
   ]
  },
  {
   "cell_type": "code",
   "execution_count": 33,
   "id": "b61e206f",
   "metadata": {
    "ExecuteTime": {
     "end_time": "2023-02-17T16:41:07.202411Z",
     "start_time": "2023-02-17T16:41:07.037722Z"
    }
   },
   "outputs": [
    {
     "data": {
      "image/png": "[encoded data removed]",
      "text/plain": [
       "<Figure size 640x480 with 1 Axes>"
      ]
     },
     "metadata": {},
     "output_type": "display_data"
    }
   ],
   "source": [
    "plt.hist([g.current_round for g in mm_games]);"
   ]
  },
  {
   "cell_type": "markdown",
   "id": "d7556109",
   "metadata": {},
   "source": [
    "It seems like the games are ending faster too"
   ]
  },
  {
   "cell_type": "code",
   "execution_count": 13,
   "id": "451ed471",
   "metadata": {
    "ExecuteTime": {
     "end_time": "2023-02-18T15:12:28.603466Z",
     "start_time": "2023-02-18T15:12:27.954201Z"
    }
   },
   "outputs": [],
   "source": [
    "def ab_rand():\n",
    "    players = [AlphaBeta(0), RandPolicy(1)]\n",
    "    sim = game.GameSimulator(players, n_steps=700)\n",
    "    sim.run()\n",
    "    return sim"
   ]
  },
  {
   "cell_type": "code",
   "execution_count": 14,
   "id": "b522d6b2",
   "metadata": {
    "ExecuteTime": {
     "end_time": "2023-02-18T15:12:37.935015Z",
     "start_time": "2023-02-18T15:12:28.605039Z"
    }
   },
   "outputs": [],
   "source": [
    "ab_games = [ab_rand() for _ in range(20)]"
   ]
  },
  {
   "cell_type": "code",
   "execution_count": 15,
   "id": "64eecd30",
   "metadata": {
    "ExecuteTime": {
     "end_time": "2023-02-18T15:12:42.397625Z",
     "start_time": "2023-02-18T15:12:42.383841Z"
    }
   },
   "outputs": [
    {
     "data": {
      "text/plain": [
       "0.25"
      ]
     },
     "execution_count": 15,
     "metadata": {},
     "output_type": "execute_result"
    }
   ],
   "source": [
    "np.mean([g.winner() for g in ab_games])"
   ]
  },
  {
   "cell_type": "markdown",
   "id": "00149b50",
   "metadata": {},
   "source": [
    "As expected, we do even better with Alpha Beta pruning."
   ]
  },
  {
   "cell_type": "code",
   "execution_count": 16,
   "id": "52d8d92b",
   "metadata": {
    "ExecuteTime": {
     "end_time": "2023-02-18T15:12:50.748774Z",
     "start_time": "2023-02-18T15:12:50.618271Z"
    }
   },
   "outputs": [
    {
     "data": {
      "image/png": "[encoded data removed]",
      "text/plain": [
       "<Figure size 640x480 with 1 Axes>"
      ]
     },
     "metadata": {},
     "output_type": "display_data"
    }
   ],
   "source": [
    "plt.hist([g.current_round for g in ab_games]);"
   ]
  },
  {
   "cell_type": "markdown",
   "id": "f8584bd4",
   "metadata": {},
   "source": [
    "Hm: but the games are taking longer? Could also be sample quirks. 20 games isn't much of a sample. "
   ]
  },
  {
   "cell_type": "code",
   "execution_count": 24,
   "id": "795e6cb1",
   "metadata": {
    "ExecuteTime": {
     "end_time": "2023-02-17T04:33:02.003479Z",
     "start_time": "2023-02-17T04:33:01.542741Z"
    }
   },
   "outputs": [],
   "source": [
    "def minimax_game():\n",
    "    players = [MinimaxPolicy(0), MinimaxPolicy(1)]\n",
    "    sim = game.GameSimulator(players, n_steps=1000)\n",
    "    sim.run()"
   ]
  }
 ],
 "metadata": {
  "@webio": {
   "lastCommId": null,
   "lastKernelId": null
  },
  "kernelspec": {
   "display_name": "Python 3 (ipykernel)",
   "language": "python",
   "name": "python3"
  },
  "language_info": {
   "codemirror_mode": {
    "name": "ipython",
    "version": 3
   },
   "file_extension": ".py",
   "mimetype": "text/x-python",
   "name": "python",
   "nbconvert_exporter": "python",
   "pygments_lexer": "ipython3",
   "version": "3.8.9"
  }
 },
 "nbformat": 4,
 "nbformat_minor": 5
}
